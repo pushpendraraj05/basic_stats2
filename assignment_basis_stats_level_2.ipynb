{
 "cells": [
  {
   "cell_type": "code",
   "execution_count": 1,
   "id": "64ad8a8b",
   "metadata": {},
   "outputs": [],
   "source": [
    "import numpy as np"
   ]
  },
  {
   "cell_type": "markdown",
   "id": "59741a31",
   "metadata": {},
   "source": [
    "## 4.\tLet X ~ N(100, 20^2). Find two values, a and b, symmetric about the mean, such that the probability of the random variable taking a value between them is 0.99. \n",
    "\n",
    "## -A.\t90.5, 105.9 \n",
    "## -B.\t80.2, 119.8 \n",
    "## -C.\t22, 78 \n",
    "## -D.\t48.5, 151.5 \n",
    "## -E.\t90.1, 109.9\n"
   ]
  },
  {
   "cell_type": "code",
   "execution_count": 3,
   "id": "3d4408e5",
   "metadata": {},
   "outputs": [],
   "source": [
    "from scipy.stats import norm\n",
    "from scipy.stats import binom"
   ]
  },
  {
   "cell_type": "code",
   "execution_count": 5,
   "id": "f312d077",
   "metadata": {},
   "outputs": [
    {
     "data": {
      "text/plain": [
       "151.516586070978"
      ]
     },
     "execution_count": 5,
     "metadata": {},
     "output_type": "execute_result"
    }
   ],
   "source": [
    "norm.ppf(0.995,100,20)"
   ]
  },
  {
   "cell_type": "code",
   "execution_count": 6,
   "id": "c8c50524",
   "metadata": {},
   "outputs": [
    {
     "data": {
      "text/plain": [
       "48.483413929021985"
      ]
     },
     "execution_count": 6,
     "metadata": {},
     "output_type": "execute_result"
    }
   ],
   "source": [
    "norm.ppf(0.005,100,20)"
   ]
  },
  {
   "cell_type": "markdown",
   "id": "c3a2b448",
   "metadata": {},
   "source": [
    "## Q5.\tConsider a company that has two different divisions. The annual profits from the two divisions are independent and have distributions Profit1 ~ N(5, 3^2) and Profit2 ~ N(7, 4^2) respectively. Both the profits are in dollars Million. Answer the following questions about the total profit of the company in Rupees. Assume that 1 dollar = Rs. 45\n",
    "#A.\tSpecify a Rupee range (centered on the mean) such that it contains 95% probability for the annual profit of the company.  \n",
    "#B.\tSpecify the 5th percentile of profit (in Rupees) for the company.  \n",
    "#C.\tWhich of the two divisions has a larger probability of making a loss each year?  "
   ]
  },
  {
   "cell_type": "markdown",
   "id": "6a452275",
   "metadata": {},
   "source": [
    "## A. answer"
   ]
  },
  {
   "cell_type": "code",
   "execution_count": 35,
   "id": "a83862d8",
   "metadata": {},
   "outputs": [
    {
     "name": "stdout",
     "output_type": "stream",
     "text": [
      "upper side1 219.12010804637984\n"
     ]
    },
    {
     "data": {
      "text/plain": [
       "219.12010804637984"
      ]
     },
     "execution_count": 35,
     "metadata": {},
     "output_type": "execute_result"
    }
   ],
   "source": [
    "# DIVISION_1\n",
    "#for 95% of the probability, 100-95=5%\n",
    "#for upper and lower limit in two tail 5%/2=2.5%=0.025 \n",
    "\n",
    "profit_1_a=norm.ppf(0.025,45*5,3)\n",
    "print('upper side1',norm.ppf(0.025,45*5,3))\n",
    "profit_1_a"
   ]
  },
  {
   "cell_type": "code",
   "execution_count": 32,
   "id": "426dbd63",
   "metadata": {},
   "outputs": [
    {
     "name": "stdout",
     "output_type": "stream",
     "text": [
      "lower side1 230.87989195362016\n"
     ]
    },
    {
     "data": {
      "text/plain": [
       "230.87989195362016"
      ]
     },
     "execution_count": 32,
     "metadata": {},
     "output_type": "execute_result"
    }
   ],
   "source": [
    "# for other remaining limits, 1-0.025=0.975\n",
    "\n",
    "\n",
    "profit_1_b=norm.ppf(0.975,45*5,3)\n",
    "print('lower side1',norm.ppf(0.975,45*5,3))\n",
    "profit_1_b"
   ]
  },
  {
   "cell_type": "code",
   "execution_count": 33,
   "id": "8897311f",
   "metadata": {},
   "outputs": [
    {
     "name": "stdout",
     "output_type": "stream",
     "text": [
      "upper side2 307.1601440618398\n"
     ]
    },
    {
     "data": {
      "text/plain": [
       "307.1601440618398"
      ]
     },
     "execution_count": 33,
     "metadata": {},
     "output_type": "execute_result"
    }
   ],
   "source": [
    "#DIVISION_2\n",
    "#for 95% of the probability, 100-95=5%\n",
    "#for upper and lower limit in two tail 5%/2=2.5%=0.025 \n",
    "\n",
    "profit_2_a=norm.ppf(0.025,45*7,4)\n",
    "print('upper side2',norm.ppf(0.025,45*7,4))\n",
    "profit_2_a"
   ]
  },
  {
   "cell_type": "code",
   "execution_count": 34,
   "id": "14fb10b6",
   "metadata": {},
   "outputs": [
    {
     "name": "stdout",
     "output_type": "stream",
     "text": [
      "lower side2 322.8398559381602\n"
     ]
    },
    {
     "data": {
      "text/plain": [
       "322.8398559381602"
      ]
     },
     "execution_count": 34,
     "metadata": {},
     "output_type": "execute_result"
    }
   ],
   "source": [
    "# for other remaining limits, 1-0.025=0.975\n",
    "\n",
    "\n",
    "profit_2_b=norm.ppf(0.975,45*7,4)\n",
    "print('lower side2',norm.ppf(0.975,45*7,4))\n",
    "profit_2_b"
   ]
  },
  {
   "cell_type": "code",
   "execution_count": 39,
   "id": "607ac966",
   "metadata": {},
   "outputs": [
    {
     "name": "stdout",
     "output_type": "stream",
     "text": [
      "total amount in profit in rupees: 1080.0\n"
     ]
    }
   ],
   "source": [
    "print('total amount in profit in rupees:',profit_1_a+profit_1_b+profit_2_a+profit_2_b)"
   ]
  },
  {
   "cell_type": "markdown",
   "id": "d4ebf513",
   "metadata": {},
   "source": [
    "## B.answer"
   ]
  },
  {
   "cell_type": "code",
   "execution_count": 40,
   "id": "a060a542",
   "metadata": {},
   "outputs": [],
   "source": [
    "# 5th percentile in the profit"
   ]
  },
  {
   "cell_type": "code",
   "execution_count": 41,
   "id": "2002fb06",
   "metadata": {},
   "outputs": [],
   "source": [
    "# A percentile is a measurement that tells us what percent of the total frequency of a data set was at or below that measure."
   ]
  },
  {
   "cell_type": "code",
   "execution_count": 44,
   "id": "f3680d3a",
   "metadata": {},
   "outputs": [
    {
     "name": "stdout",
     "output_type": "stream",
     "text": [
      "308.4205854921941\n"
     ]
    },
    {
     "data": {
      "text/plain": [
       "308.4205854921941"
      ]
     },
     "execution_count": 44,
     "metadata": {},
     "output_type": "execute_result"
    }
   ],
   "source": [
    "per_1=(norm.ppf(0.05,45*7,4))\n",
    "print(norm.ppf(0.05,45*7,4))\n",
    "per_1"
   ]
  },
  {
   "cell_type": "code",
   "execution_count": 45,
   "id": "385a7411",
   "metadata": {},
   "outputs": [
    {
     "name": "stdout",
     "output_type": "stream",
     "text": [
      "220.0654391191456\n"
     ]
    },
    {
     "data": {
      "text/plain": [
       "220.0654391191456"
      ]
     },
     "execution_count": 45,
     "metadata": {},
     "output_type": "execute_result"
    }
   ],
   "source": [
    "per_2=(norm.ppf(0.05,45*5,3))\n",
    "\n",
    "print(norm.ppf(0.05,45*5,3))\n",
    "per_2"
   ]
  },
  {
   "cell_type": "code",
   "execution_count": 46,
   "id": "5c81c64a",
   "metadata": {},
   "outputs": [
    {
     "name": "stdout",
     "output_type": "stream",
     "text": [
      "profits at 5th percentile: 528.4860246113396\n"
     ]
    }
   ],
   "source": [
    "print('profits at 5th percentile:',per_1+per_2)"
   ]
  },
  {
   "cell_type": "markdown",
   "id": "c2c041ee",
   "metadata": {},
   "source": [
    "## C.answer\n"
   ]
  },
  {
   "cell_type": "code",
   "execution_count": 47,
   "id": "5e014744",
   "metadata": {},
   "outputs": [],
   "source": [
    "# 2nd DIVISION WILL HAVE MOST LIKELY TO MAKE LOSS "
   ]
  }
 ],
 "metadata": {
  "kernelspec": {
   "display_name": "Python 3 (ipykernel)",
   "language": "python",
   "name": "python3"
  },
  "language_info": {
   "codemirror_mode": {
    "name": "ipython",
    "version": 3
   },
   "file_extension": ".py",
   "mimetype": "text/x-python",
   "name": "python",
   "nbconvert_exporter": "python",
   "pygments_lexer": "ipython3",
   "version": "3.9.12"
  }
 },
 "nbformat": 4,
 "nbformat_minor": 5
}
